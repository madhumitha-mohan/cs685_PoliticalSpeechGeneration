{
 "cells": [
  {
   "cell_type": "code",
   "execution_count": 10,
   "id": "78c2a24b",
   "metadata": {},
   "outputs": [],
   "source": [
    "import pandas as pd\n",
    "import matplotlib.pyplot as plt\n",
    "import glob"
   ]
  },
  {
   "cell_type": "code",
   "execution_count": 11,
   "id": "2b39d61b",
   "metadata": {},
   "outputs": [],
   "source": [
    "all_files = glob.glob(\"*Sampling_Evaluation*.csv\")\n",
    "descr_files = glob.glob(\"descr_*.txt\")\n",
    "speakermap_files = glob.glob(\"*_SpeakerMap.txt\")\n",
    "speeches = sorted(speeches)\n",
    "descr_files = sorted(descr_files)\n",
    "speakermap_files = sorted(speakermap_files)"
   ]
  },
  {
   "cell_type": "code",
   "execution_count": 135,
   "id": "9b938afe",
   "metadata": {},
   "outputs": [],
   "source": [
    "titles = [\"baseline\", \"approach2_business\",\"approach1_business\"]\n",
    "final_dict = []\n",
    "plot_dict = []\n",
    "final_dict_ten = []\n",
    "final_dict_twe = []\n",
    "\n",
    "for title in titles:\n",
    "    files = [x for x in all_files if title in x.lower()]\n",
    "    coherence_mean = 0\n",
    "    relevance_mean = 0\n",
    "    coherence_median = 0\n",
    "    relevance_median = 0\n",
    "    nr_mean = 0\n",
    "    consistency_mean = 0\n",
    "    correctness_mean = 0\n",
    "    nr_median = 0\n",
    "    consistency_median = 0\n",
    "    correctness_median = 0\n",
    "    ten_coherence_mean = 0\n",
    "    ten_relevance_mean = 0\n",
    "    ten_coherence_median = 0\n",
    "    ten_relevance_median = 0\n",
    "    twe_coherence_mean = 0\n",
    "    twe_relevance_mean = 0\n",
    "    twe_coherence_median = 0\n",
    "    twe_relevance_median = 0\n",
    "    \n",
    "    for file in files:\n",
    "        df = pd.read_csv(file)\n",
    "        coherence_mean += df[\"Coherence\"].mean()\n",
    "        relevance_mean += df[\"Relevance\"].mean()\n",
    "        coherence_median += df[\"Coherence\"].median()\n",
    "        relevance_median += df[\"Relevance\"].median()\n",
    "        nr_mean += df[\"Non-redundancy\"].mean()\n",
    "        consistency_mean += df[\"Consistency\"].mean()\n",
    "        correctness_mean += df[\"Correctness\"].mean()\n",
    "        nr_median += df[\"Non-redundancy\"].median()\n",
    "        consistency_median += df[\"Consistency\"].median()\n",
    "        correctness_median += df[\"Correctness\"].median()\n",
    "        \n",
    "        \n",
    "    \n",
    "        ten_coherence_mean += df[df[\"ten\"]==1][\"Coherence\"].mean()\n",
    "        ten_relevance_mean += df[df[\"ten\"]==1][\"Relevance\"].mean()\n",
    "        ten_coherence_median += df[df[\"ten\"]==1][\"Coherence\"].median()\n",
    "        ten_relevance_median += df[df[\"ten\"]==1][\"Relevance\"].median()\n",
    "        \n",
    "        twe_coherence_mean += df[df[\"ten\"]!=1][\"Coherence\"].mean()\n",
    "        twe_relevance_mean += df[df[\"ten\"]!=1][\"Relevance\"].mean()\n",
    "        twe_coherence_median += df[df[\"ten\"]!=1][\"Coherence\"].median()\n",
    "        twe_relevance_median += df[df[\"ten\"]!=1][\"Relevance\"].median()\n",
    "    \n",
    "    final_coherence_mean = coherence_mean/len(files)\n",
    "    final_relevance_mean = relevance_mean/len(files)\n",
    "    final_nr_mean = nr_mean/len(files)\n",
    "    final_consistency_mean = consistency_mean/len(files)\n",
    "    final_correctness_mean = correctness_mean/len(files)\n",
    "    \n",
    "    final_coherence_median = int(coherence_median/len(files))\n",
    "    final_relevance_median = int(relevance_median/len(files))\n",
    "    \n",
    "    final_ten_coherence_mean = ten_coherence_mean/len(files)\n",
    "    final_ten_relevance_mean = ten_relevance_mean/len(files)\n",
    "    final_ten_coherence_median = int(ten_coherence_median/len(files))\n",
    "    final_ten_relevance_median = int(ten_relevance_median/len(files))\n",
    "    final_twe_coherence_mean = twe_coherence_mean/len(files)\n",
    "    final_twe_relevance_mean = twe_relevance_mean/len(files)\n",
    "    final_twe_coherence_median = int(twe_coherence_median/len(files))\n",
    "    final_twe_relevance_median = int(twe_relevance_median/len(files))\n",
    "    \n",
    "    final_dict.append({\"model\": title.split(\"_\")[0], \"coherence_mean\": final_coherence_mean, \"relevance_mean\": final_relevance_mean, \"non_red_mean\":final_nr_mean, \"consistency_mean\": final_consistency_mean, \"correctness_mean\": final_correctness_mean})\n",
    "    plot_dict.append({\"model\": title.split(\"_\")[0], \"coherence_mean\": final_coherence_mean, \"relevance_mean\": final_relevance_mean, \"coherence_median\": final_coherence_median, \"relevance_median\": final_relevance_median})\n",
    "    final_dict_ten.append({\"model\": title.split(\"_\")[0], \"coherence_mean\": final_ten_coherence_mean, \"relevance_mean\": final_ten_relevance_mean, \"coherence_median\": final_ten_coherence_median, \"relevance_median\": final_ten_relevance_median})\n",
    "    final_dict_twe.append({\"model\": title.split(\"_\")[0], \"coherence_mean\": final_twe_coherence_mean, \"relevance_mean\": final_twe_relevance_mean, \"coherence_median\": final_twe_coherence_median, \"relevance_median\": final_twe_relevance_median})\n",
    "    \n",
    "    \n",
    "    \n",
    "    \n",
    "\n"
   ]
  },
  {
   "cell_type": "code",
   "execution_count": 136,
   "id": "469590f1",
   "metadata": {},
   "outputs": [
    {
     "data": {
      "text/html": [
       "<div>\n",
       "<style scoped>\n",
       "    .dataframe tbody tr th:only-of-type {\n",
       "        vertical-align: middle;\n",
       "    }\n",
       "\n",
       "    .dataframe tbody tr th {\n",
       "        vertical-align: top;\n",
       "    }\n",
       "\n",
       "    .dataframe thead th {\n",
       "        text-align: right;\n",
       "    }\n",
       "</style>\n",
       "<table border=\"1\" class=\"dataframe\">\n",
       "  <thead>\n",
       "    <tr style=\"text-align: right;\">\n",
       "      <th></th>\n",
       "      <th>model</th>\n",
       "      <th>coherence_mean</th>\n",
       "      <th>relevance_mean</th>\n",
       "      <th>coherence_median</th>\n",
       "      <th>relevance_median</th>\n",
       "    </tr>\n",
       "  </thead>\n",
       "  <tbody>\n",
       "    <tr>\n",
       "      <th>0</th>\n",
       "      <td>baseline</td>\n",
       "      <td>3.758333</td>\n",
       "      <td>4.077778</td>\n",
       "      <td>4</td>\n",
       "      <td>4</td>\n",
       "    </tr>\n",
       "    <tr>\n",
       "      <th>1</th>\n",
       "      <td>approach2</td>\n",
       "      <td>4.450000</td>\n",
       "      <td>4.425000</td>\n",
       "      <td>4</td>\n",
       "      <td>4</td>\n",
       "    </tr>\n",
       "    <tr>\n",
       "      <th>2</th>\n",
       "      <td>approach1</td>\n",
       "      <td>3.250000</td>\n",
       "      <td>3.283333</td>\n",
       "      <td>3</td>\n",
       "      <td>3</td>\n",
       "    </tr>\n",
       "  </tbody>\n",
       "</table>\n",
       "</div>"
      ],
      "text/plain": [
       "       model  coherence_mean  relevance_mean  coherence_median  \\\n",
       "0   baseline        3.758333        4.077778                 4   \n",
       "1  approach2        4.450000        4.425000                 4   \n",
       "2  approach1        3.250000        3.283333                 3   \n",
       "\n",
       "   relevance_median  \n",
       "0                 4  \n",
       "1                 4  \n",
       "2                 3  "
      ]
     },
     "execution_count": 136,
     "metadata": {},
     "output_type": "execute_result"
    }
   ],
   "source": [
    "final_twe = pd.DataFrame(final_dict_twe)\n",
    "final_ten.sort_index()"
   ]
  },
  {
   "cell_type": "code",
   "execution_count": 143,
   "id": "cf0e2362",
   "metadata": {},
   "outputs": [],
   "source": [
    "df_random = pd.DataFrame(plot_dict).reindex([0, 2, 1])\n",
    "df_random.model = [\"Baseline\", \"PPLM Approach 1\", \"PPLM Approach 2\"]"
   ]
  },
  {
   "cell_type": "code",
   "execution_count": 122,
   "id": "1ecf163d",
   "metadata": {},
   "outputs": [],
   "source": [
    "final_twe.sort_values(by=\"relevance_mean\", inplace=True)"
   ]
  },
  {
   "cell_type": "code",
   "execution_count": 146,
   "id": "20fb7ed9",
   "metadata": {},
   "outputs": [
    {
     "data": {
      "image/png": "[encoded data removed]",
      "text/plain": [
       "<Figure size 432x288 with 1 Axes>"
      ]
     },
     "metadata": {
      "needs_background": "light"
     },
     "output_type": "display_data"
    },
    {
     "data": {
      "text/plain": [
       "<Figure size 432x288 with 0 Axes>"
      ]
     },
     "metadata": {},
     "output_type": "display_data"
    }
   ],
   "source": [
    "plot_(df_random,\"final_plot\")"
   ]
  },
  {
   "cell_type": "code",
   "execution_count": 124,
   "id": "e55aac7e",
   "metadata": {},
   "outputs": [],
   "source": [
    "import matplotlib.pyplot as plt\n",
    "import numpy as np\n",
    "def plot_(plot_dict, file):\n",
    "    x = range(len(plot_dict))\n",
    "    my_xticks = plot_dict[\"model\"]\n",
    "    plt.xticks(x, my_xticks)\n",
    "\n",
    "    y_1 = plot_dict[\"coherence_mean\"]\n",
    "    y_2 = plot_dict[\"relevance_mean\"]\n",
    "\n",
    "    plt.plot(x, y_1, label=\"coherence_mean\")\n",
    "    plt.plot(x, y_2, label=\"relevance_mean\")\n",
    "    plt.legend()\n",
    "\n",
    "    plt.show()\n",
    "    plt.savefig(f\"{file}.png\")"
   ]
  },
  {
   "cell_type": "code",
   "execution_count": 125,
   "id": "1e62cc28",
   "metadata": {},
   "outputs": [
    {
     "data": {
      "image/png": "[encoded data removed]",
      "text/plain": [
       "<Figure size 432x288 with 1 Axes>"
      ]
     },
     "metadata": {
      "needs_background": "light"
     },
     "output_type": "display_data"
    }
   ],
   "source": [
    "x = range(len(final_ten))\n",
    "my_xticks = final_ten[\"model\"]\n",
    "plt.xticks(x, my_xticks)\n",
    "\n",
    "y_1 = final_ten[\"relevance_mean\"]\n",
    "y_2 = final_twe[\"relevance_mean\"]\n",
    "\n",
    "plt.plot(x, y_1, label=\"Ten short prompts\")\n",
    "plt.plot(x, y_2, label=\"Political Prompts\")\n",
    "plt.legend()\n",
    "\n",
    "plt.show()"
   ]
  },
  {
   "cell_type": "code",
   "execution_count": 126,
   "id": "b07afe7d",
   "metadata": {},
   "outputs": [
    {
     "data": {
      "text/html": [
       "<div>\n",
       "<style scoped>\n",
       "    .dataframe tbody tr th:only-of-type {\n",
       "        vertical-align: middle;\n",
       "    }\n",
       "\n",
       "    .dataframe tbody tr th {\n",
       "        vertical-align: top;\n",
       "    }\n",
       "\n",
       "    .dataframe thead th {\n",
       "        text-align: right;\n",
       "    }\n",
       "</style>\n",
       "<table border=\"1\" class=\"dataframe\">\n",
       "  <thead>\n",
       "    <tr style=\"text-align: right;\">\n",
       "      <th></th>\n",
       "      <th>model</th>\n",
       "      <th>coherence_mean</th>\n",
       "      <th>relevance_mean</th>\n",
       "      <th>coherence_median</th>\n",
       "      <th>relevance_median</th>\n",
       "    </tr>\n",
       "  </thead>\n",
       "  <tbody>\n",
       "    <tr>\n",
       "      <th>2</th>\n",
       "      <td>approach1_business</td>\n",
       "      <td>3.166667</td>\n",
       "      <td>2.166667</td>\n",
       "      <td>3</td>\n",
       "      <td>1</td>\n",
       "    </tr>\n",
       "    <tr>\n",
       "      <th>0</th>\n",
       "      <td>baseline</td>\n",
       "      <td>3.144444</td>\n",
       "      <td>2.733333</td>\n",
       "      <td>3</td>\n",
       "      <td>2</td>\n",
       "    </tr>\n",
       "    <tr>\n",
       "      <th>1</th>\n",
       "      <td>approach2_business</td>\n",
       "      <td>4.550000</td>\n",
       "      <td>4.800000</td>\n",
       "      <td>4</td>\n",
       "      <td>5</td>\n",
       "    </tr>\n",
       "  </tbody>\n",
       "</table>\n",
       "</div>"
      ],
      "text/plain": [
       "                model  coherence_mean  relevance_mean  coherence_median  \\\n",
       "2  approach1_business        3.166667        2.166667                 3   \n",
       "0            baseline        3.144444        2.733333                 3   \n",
       "1  approach2_business        4.550000        4.800000                 4   \n",
       "\n",
       "   relevance_median  \n",
       "2                 1  \n",
       "0                 2  \n",
       "1                 5  "
      ]
     },
     "execution_count": 126,
     "metadata": {},
     "output_type": "execute_result"
    }
   ],
   "source": [
    "final_ten\n"
   ]
  },
  {
   "cell_type": "code",
   "execution_count": 133,
   "id": "20675b9c",
   "metadata": {},
   "outputs": [
    {
     "data": {
      "image/png": "[encoded data removed]",
      "text/plain": [
       "<Figure size 432x288 with 1 Axes>"
      ]
     },
     "metadata": {
      "needs_background": "light"
     },
     "output_type": "display_data"
    }
   ],
   "source": [
    "# x = range(len(final_ten))\n",
    "# my_xticks = final_ten[\"model\"]\n",
    "# plt.xticks(x, my_xticks)\n",
    "\n",
    "# y_1 = final_ten[\"relevance_mean\"]\n",
    "# y_2 = final_twe[\"relevance_mean\"]\n",
    "\n",
    "final_ten_reordered.model = [\"Baseline\", \"PPLM Approach 1\", \"PPLM Approach 2\"]\n",
    "final_twe_reordered.model = [\"Baseline\", \"PPLM Approach 1\", \"PPLM Approach 2\"]\n",
    "\n",
    "plt.plot(final_ten_reordered.model, final_ten_reordered.relevance_mean, label=\"Ten short prompts\")\n",
    "plt.plot(final_twe_reordered.model, final_twe_reordered.relevance_mean, label=\"Political Prompts\")\n",
    "plt.legend()\n",
    "\n",
    "plt.show()"
   ]
  }
 ],
 "metadata": {
  "kernelspec": {
   "display_name": "Python 3 (ipykernel)",
   "language": "python",
   "name": "python3"
  },
  "language_info": {
   "codemirror_mode": {
    "name": "ipython",
    "version": 3
   },
   "file_extension": ".py",
   "mimetype": "text/x-python",
   "name": "python",
   "nbconvert_exporter": "python",
   "pygments_lexer": "ipython3",
   "version": "3.7.0"
  }
 },
 "nbformat": 4,
 "nbformat_minor": 5
}
